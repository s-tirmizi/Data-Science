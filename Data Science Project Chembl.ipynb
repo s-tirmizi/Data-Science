{
 "cells": [
  {
   "cell_type": "markdown",
   "metadata": {},
   "source": [
    "# Data Science Project - 1\n",
    "##### Install ChEMBL web service package and extract the required information for the project\n",
    "##### Pre-process the data and export it into .csv format"
   ]
  },
  {
   "cell_type": "code",
   "execution_count": 1,
   "metadata": {},
   "outputs": [
    {
     "name": "stdout",
     "output_type": "stream",
     "text": [
      "Requirement already satisfied: chembl_webresource_client in c:\\users\\jarvis\\anaconda3\\lib\\site-packages (0.10.8)\n",
      "Requirement already satisfied: easydict in c:\\users\\jarvis\\anaconda3\\lib\\site-packages (from chembl_webresource_client) (1.9)\n",
      "Requirement already satisfied: requests>=2.18.4 in c:\\users\\jarvis\\anaconda3\\lib\\site-packages (from chembl_webresource_client) (2.27.1)\n",
      "Requirement already satisfied: requests-cache~=0.7.0 in c:\\users\\jarvis\\anaconda3\\lib\\site-packages (from chembl_webresource_client) (0.7.5)"
     ]
    },
    {
     "name": "stderr",
     "output_type": "stream",
     "text": [
      "WARNING: Ignoring invalid distribution -illow (c:\\users\\jarvis\\anaconda3\\lib\\site-packages)\n",
      "WARNING: Ignoring invalid distribution -illow (c:\\users\\jarvis\\anaconda3\\lib\\site-packages)\n",
      "WARNING: Ignoring invalid distribution -illow (c:\\users\\jarvis\\anaconda3\\lib\\site-packages)\n",
      "WARNING: Ignoring invalid distribution -illow (c:\\users\\jarvis\\anaconda3\\lib\\site-packages)\n",
      "WARNING: Ignoring invalid distribution -illow (c:\\users\\jarvis\\anaconda3\\lib\\site-packages)\n",
      "WARNING: Ignoring invalid distribution -illow (c:\\users\\jarvis\\anaconda3\\lib\\site-packages)\n"
     ]
    },
    {
     "name": "stdout",
     "output_type": "stream",
     "text": [
      "\n",
      "Requirement already satisfied: urllib3 in c:\\users\\jarvis\\anaconda3\\lib\\site-packages (from chembl_webresource_client) (1.26.9)\n",
      "Requirement already satisfied: idna<4,>=2.5 in c:\\users\\jarvis\\anaconda3\\lib\\site-packages (from requests>=2.18.4->chembl_webresource_client) (3.3)\n",
      "Requirement already satisfied: certifi>=2017.4.17 in c:\\users\\jarvis\\anaconda3\\lib\\site-packages (from requests>=2.18.4->chembl_webresource_client) (2021.10.8)\n",
      "Requirement already satisfied: charset-normalizer~=2.0.0 in c:\\users\\jarvis\\anaconda3\\lib\\site-packages (from requests>=2.18.4->chembl_webresource_client) (2.0.4)\n",
      "Requirement already satisfied: attrs<22.0,>=21.2 in c:\\users\\jarvis\\anaconda3\\lib\\site-packages (from requests-cache~=0.7.0->chembl_webresource_client) (21.4.0)\n",
      "Requirement already satisfied: url-normalize<2.0,>=1.4 in c:\\users\\jarvis\\anaconda3\\lib\\site-packages (from requests-cache~=0.7.0->chembl_webresource_client) (1.4.3)\n",
      "Requirement already satisfied: itsdangerous>=2.0.1 in c:\\users\\jarvis\\anaconda3\\lib\\site-packages (from requests-cache~=0.7.0->chembl_webresource_client) (2.0.1)\n",
      "Requirement already satisfied: pyyaml>=5.4 in c:\\users\\jarvis\\anaconda3\\lib\\site-packages (from requests-cache~=0.7.0->chembl_webresource_client) (6.0)\n",
      "Requirement already satisfied: six in c:\\users\\jarvis\\anaconda3\\lib\\site-packages (from url-normalize<2.0,>=1.4->requests-cache~=0.7.0->chembl_webresource_client) (1.16.0)\n"
     ]
    }
   ],
   "source": [
    "# Install ChEMBL Package \n",
    "! pip install chembl_webresource_client"
   ]
  },
  {
   "cell_type": "code",
   "execution_count": 35,
   "metadata": {},
   "outputs": [],
   "source": [
    "# Import necessary libraries\n",
    "import pandas as pd\n",
    "from chembl_webresource_client.new_client import new_client"
   ]
  },
  {
   "cell_type": "markdown",
   "metadata": {},
   "source": [
    "## Search for the response variable"
   ]
  },
  {
   "cell_type": "code",
   "execution_count": 36,
   "metadata": {},
   "outputs": [
    {
     "data": {
      "text/html": [
       "<div>\n",
       "<style scoped>\n",
       "    .dataframe tbody tr th:only-of-type {\n",
       "        vertical-align: middle;\n",
       "    }\n",
       "\n",
       "    .dataframe tbody tr th {\n",
       "        vertical-align: top;\n",
       "    }\n",
       "\n",
       "    .dataframe thead th {\n",
       "        text-align: right;\n",
       "    }\n",
       "</style>\n",
       "<table border=\"1\" class=\"dataframe\">\n",
       "  <thead>\n",
       "    <tr style=\"text-align: right;\">\n",
       "      <th></th>\n",
       "      <th>cross_references</th>\n",
       "      <th>organism</th>\n",
       "      <th>pref_name</th>\n",
       "      <th>score</th>\n",
       "      <th>species_group_flag</th>\n",
       "      <th>target_chembl_id</th>\n",
       "      <th>target_components</th>\n",
       "      <th>target_type</th>\n",
       "      <th>tax_id</th>\n",
       "    </tr>\n",
       "  </thead>\n",
       "  <tbody>\n",
       "    <tr>\n",
       "      <th>0</th>\n",
       "      <td>[]</td>\n",
       "      <td>Coronavirus</td>\n",
       "      <td>Coronavirus</td>\n",
       "      <td>17.0</td>\n",
       "      <td>False</td>\n",
       "      <td>CHEMBL613732</td>\n",
       "      <td>[]</td>\n",
       "      <td>ORGANISM</td>\n",
       "      <td>11119</td>\n",
       "    </tr>\n",
       "    <tr>\n",
       "      <th>1</th>\n",
       "      <td>[]</td>\n",
       "      <td>SARS coronavirus</td>\n",
       "      <td>SARS coronavirus</td>\n",
       "      <td>15.0</td>\n",
       "      <td>False</td>\n",
       "      <td>CHEMBL612575</td>\n",
       "      <td>[]</td>\n",
       "      <td>ORGANISM</td>\n",
       "      <td>227859</td>\n",
       "    </tr>\n",
       "    <tr>\n",
       "      <th>2</th>\n",
       "      <td>[]</td>\n",
       "      <td>Feline coronavirus</td>\n",
       "      <td>Feline coronavirus</td>\n",
       "      <td>15.0</td>\n",
       "      <td>False</td>\n",
       "      <td>CHEMBL612744</td>\n",
       "      <td>[]</td>\n",
       "      <td>ORGANISM</td>\n",
       "      <td>12663</td>\n",
       "    </tr>\n",
       "    <tr>\n",
       "      <th>3</th>\n",
       "      <td>[]</td>\n",
       "      <td>Human coronavirus 229E</td>\n",
       "      <td>Human coronavirus 229E</td>\n",
       "      <td>13.0</td>\n",
       "      <td>False</td>\n",
       "      <td>CHEMBL613837</td>\n",
       "      <td>[]</td>\n",
       "      <td>ORGANISM</td>\n",
       "      <td>11137</td>\n",
       "    </tr>\n",
       "    <tr>\n",
       "      <th>4</th>\n",
       "      <td>[{'xref_id': 'P0C6U8', 'xref_name': None, 'xre...</td>\n",
       "      <td>SARS coronavirus</td>\n",
       "      <td>SARS coronavirus 3C-like proteinase</td>\n",
       "      <td>10.0</td>\n",
       "      <td>False</td>\n",
       "      <td>CHEMBL3927</td>\n",
       "      <td>[{'accession': 'P0C6U8', 'component_descriptio...</td>\n",
       "      <td>SINGLE PROTEIN</td>\n",
       "      <td>227859</td>\n",
       "    </tr>\n",
       "    <tr>\n",
       "      <th>5</th>\n",
       "      <td>[]</td>\n",
       "      <td>Middle East respiratory syndrome-related coron...</td>\n",
       "      <td>Middle East respiratory syndrome-related coron...</td>\n",
       "      <td>9.0</td>\n",
       "      <td>False</td>\n",
       "      <td>CHEMBL4296578</td>\n",
       "      <td>[]</td>\n",
       "      <td>ORGANISM</td>\n",
       "      <td>1335626</td>\n",
       "    </tr>\n",
       "    <tr>\n",
       "      <th>6</th>\n",
       "      <td>[{'xref_id': 'P0C6X7', 'xref_name': None, 'xre...</td>\n",
       "      <td>SARS coronavirus</td>\n",
       "      <td>Replicase polyprotein 1ab</td>\n",
       "      <td>4.0</td>\n",
       "      <td>False</td>\n",
       "      <td>CHEMBL5118</td>\n",
       "      <td>[{'accession': 'P0C6X7', 'component_descriptio...</td>\n",
       "      <td>SINGLE PROTEIN</td>\n",
       "      <td>227859</td>\n",
       "    </tr>\n",
       "    <tr>\n",
       "      <th>7</th>\n",
       "      <td>[]</td>\n",
       "      <td>Severe acute respiratory syndrome coronavirus 2</td>\n",
       "      <td>Replicase polyprotein 1ab</td>\n",
       "      <td>4.0</td>\n",
       "      <td>False</td>\n",
       "      <td>CHEMBL4523582</td>\n",
       "      <td>[{'accession': 'P0DTD1', 'component_descriptio...</td>\n",
       "      <td>SINGLE PROTEIN</td>\n",
       "      <td>2697049</td>\n",
       "    </tr>\n",
       "  </tbody>\n",
       "</table>\n",
       "</div>"
      ],
      "text/plain": [
       "                                    cross_references  \\\n",
       "0                                                 []   \n",
       "1                                                 []   \n",
       "2                                                 []   \n",
       "3                                                 []   \n",
       "4  [{'xref_id': 'P0C6U8', 'xref_name': None, 'xre...   \n",
       "5                                                 []   \n",
       "6  [{'xref_id': 'P0C6X7', 'xref_name': None, 'xre...   \n",
       "7                                                 []   \n",
       "\n",
       "                                            organism  \\\n",
       "0                                        Coronavirus   \n",
       "1                                   SARS coronavirus   \n",
       "2                                 Feline coronavirus   \n",
       "3                             Human coronavirus 229E   \n",
       "4                                   SARS coronavirus   \n",
       "5  Middle East respiratory syndrome-related coron...   \n",
       "6                                   SARS coronavirus   \n",
       "7    Severe acute respiratory syndrome coronavirus 2   \n",
       "\n",
       "                                           pref_name  score  \\\n",
       "0                                        Coronavirus   17.0   \n",
       "1                                   SARS coronavirus   15.0   \n",
       "2                                 Feline coronavirus   15.0   \n",
       "3                             Human coronavirus 229E   13.0   \n",
       "4                SARS coronavirus 3C-like proteinase   10.0   \n",
       "5  Middle East respiratory syndrome-related coron...    9.0   \n",
       "6                          Replicase polyprotein 1ab    4.0   \n",
       "7                          Replicase polyprotein 1ab    4.0   \n",
       "\n",
       "   species_group_flag target_chembl_id  \\\n",
       "0               False     CHEMBL613732   \n",
       "1               False     CHEMBL612575   \n",
       "2               False     CHEMBL612744   \n",
       "3               False     CHEMBL613837   \n",
       "4               False       CHEMBL3927   \n",
       "5               False    CHEMBL4296578   \n",
       "6               False       CHEMBL5118   \n",
       "7               False    CHEMBL4523582   \n",
       "\n",
       "                                   target_components     target_type   tax_id  \n",
       "0                                                 []        ORGANISM    11119  \n",
       "1                                                 []        ORGANISM   227859  \n",
       "2                                                 []        ORGANISM    12663  \n",
       "3                                                 []        ORGANISM    11137  \n",
       "4  [{'accession': 'P0C6U8', 'component_descriptio...  SINGLE PROTEIN   227859  \n",
       "5                                                 []        ORGANISM  1335626  \n",
       "6  [{'accession': 'P0C6X7', 'component_descriptio...  SINGLE PROTEIN   227859  \n",
       "7  [{'accession': 'P0DTD1', 'component_descriptio...  SINGLE PROTEIN  2697049  "
      ]
     },
     "execution_count": 36,
     "metadata": {},
     "output_type": "execute_result"
    }
   ],
   "source": [
    "target = new_client.target\n",
    "target_query = target.search('coronavirus')\n",
    "targets = pd.DataFrame.from_dict(target_query)\n",
    "targets"
   ]
  },
  {
   "cell_type": "markdown",
   "metadata": {},
   "source": [
    "### search the data for SARS coronavirus 3C-like proteinase"
   ]
  },
  {
   "cell_type": "code",
   "execution_count": 37,
   "metadata": {},
   "outputs": [
    {
     "data": {
      "text/plain": [
       "'CHEMBL3927'"
      ]
     },
     "execution_count": 37,
     "metadata": {},
     "output_type": "execute_result"
    }
   ],
   "source": [
    "selected_target = targets.target_chembl_id[4]\n",
    "selected_target"
   ]
  },
  {
   "cell_type": "code",
   "execution_count": 38,
   "metadata": {},
   "outputs": [],
   "source": [
    "activity = new_client.activity\n",
    "res = activity.filter(target_chembl_id=selected_target).filter(standard_type = \"ÏC50\")"
   ]
  },
  {
   "cell_type": "code",
   "execution_count": 45,
   "metadata": {},
   "outputs": [],
   "source": [
    "df = pd.DataFrame(res)"
   ]
  },
  {
   "cell_type": "code",
   "execution_count": 46,
   "metadata": {},
   "outputs": [
    {
     "data": {
      "text/plain": [
       "(0, 0)"
      ]
     },
     "execution_count": 46,
     "metadata": {},
     "output_type": "execute_result"
    }
   ],
   "source": [
    "df.shape"
   ]
  },
  {
   "cell_type": "code",
   "execution_count": 47,
   "metadata": {},
   "outputs": [
    {
     "ename": "AttributeError",
     "evalue": "'DataFrame' object has no attribute 'standard_type'",
     "output_type": "error",
     "traceback": [
      "\u001b[1;31m---------------------------------------------------------------------------\u001b[0m",
      "\u001b[1;31mAttributeError\u001b[0m                            Traceback (most recent call last)",
      "\u001b[1;32mc:\\Users\\JARVIS\\Documents\\GitHub\\Data-Science\\Data-Science\\Data Science Project Chembl.ipynb Cell 11'\u001b[0m in \u001b[0;36m<cell line: 1>\u001b[1;34m()\u001b[0m\n\u001b[1;32m----> <a href='vscode-notebook-cell:/c%3A/Users/JARVIS/Documents/GitHub/Data-Science/Data-Science/Data%20Science%20Project%20Chembl.ipynb#ch0000010?line=0'>1</a>\u001b[0m df\u001b[39m.\u001b[39;49mstandard_type\u001b[39m.\u001b[39munique()\n",
      "File \u001b[1;32mc:\\Users\\JARVIS\\Anaconda3\\lib\\site-packages\\pandas\\core\\generic.py:5575\u001b[0m, in \u001b[0;36mNDFrame.__getattr__\u001b[1;34m(self, name)\u001b[0m\n\u001b[0;32m   5568\u001b[0m \u001b[39mif\u001b[39;00m (\n\u001b[0;32m   5569\u001b[0m     name \u001b[39mnot\u001b[39;00m \u001b[39min\u001b[39;00m \u001b[39mself\u001b[39m\u001b[39m.\u001b[39m_internal_names_set\n\u001b[0;32m   5570\u001b[0m     \u001b[39mand\u001b[39;00m name \u001b[39mnot\u001b[39;00m \u001b[39min\u001b[39;00m \u001b[39mself\u001b[39m\u001b[39m.\u001b[39m_metadata\n\u001b[0;32m   5571\u001b[0m     \u001b[39mand\u001b[39;00m name \u001b[39mnot\u001b[39;00m \u001b[39min\u001b[39;00m \u001b[39mself\u001b[39m\u001b[39m.\u001b[39m_accessors\n\u001b[0;32m   5572\u001b[0m     \u001b[39mand\u001b[39;00m \u001b[39mself\u001b[39m\u001b[39m.\u001b[39m_info_axis\u001b[39m.\u001b[39m_can_hold_identifiers_and_holds_name(name)\n\u001b[0;32m   5573\u001b[0m ):\n\u001b[0;32m   5574\u001b[0m     \u001b[39mreturn\u001b[39;00m \u001b[39mself\u001b[39m[name]\n\u001b[1;32m-> 5575\u001b[0m \u001b[39mreturn\u001b[39;00m \u001b[39mobject\u001b[39;49m\u001b[39m.\u001b[39;49m\u001b[39m__getattribute__\u001b[39;49m(\u001b[39mself\u001b[39;49m, name)\n",
      "\u001b[1;31mAttributeError\u001b[0m: 'DataFrame' object has no attribute 'standard_type'"
     ]
    }
   ],
   "source": [
    "df.standard_type.unique()"
   ]
  },
  {
   "cell_type": "code",
   "execution_count": null,
   "metadata": {},
   "outputs": [],
   "source": []
  }
 ],
 "metadata": {
  "kernelspec": {
   "display_name": "Python 3.9.12 ('base')",
   "language": "python",
   "name": "python3"
  },
  "language_info": {
   "codemirror_mode": {
    "name": "ipython",
    "version": 3
   },
   "file_extension": ".py",
   "mimetype": "text/x-python",
   "name": "python",
   "nbconvert_exporter": "python",
   "pygments_lexer": "ipython3",
   "version": "3.9.12"
  },
  "orig_nbformat": 4,
  "vscode": {
   "interpreter": {
    "hash": "304c1b5cf9b70b5b9b247167c8143b007483028106fef11636f0a0eb99b6e7ee"
   }
  }
 },
 "nbformat": 4,
 "nbformat_minor": 2
}
