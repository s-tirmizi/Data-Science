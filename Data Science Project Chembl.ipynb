{
 "cells": [
  {
   "cell_type": "markdown",
   "metadata": {},
   "source": [
    "# Data Science Project - 1\n",
    "##### Install ChEMBL web service package and extract the required information for the project\n",
    "##### Pre-process the data and export it into .csv format"
   ]
  },
  {
   "cell_type": "code",
   "execution_count": 1,
   "metadata": {},
   "outputs": [
    {
     "name": "stdout",
     "output_type": "stream",
     "text": [
      "Requirement already satisfied: chembl_webresource_client in c:\\users\\jarvis\\anaconda3\\lib\\site-packages (0.10.8)\n",
      "Requirement already satisfied: easydict in c:\\users\\jarvis\\anaconda3\\lib\\site-packages (from chembl_webresource_client) (1.9)\n",
      "Requirement already satisfied: requests>=2.18.4 in c:\\users\\jarvis\\anaconda3\\lib\\site-packages (from chembl_webresource_client) (2.27.1)\n",
      "Requirement already satisfied: requests-cache~=0.7.0 in c:\\users\\jarvis\\anaconda3\\lib\\site-packages (from chembl_webresource_client) (0.7.5)"
     ]
    },
    {
     "name": "stderr",
     "output_type": "stream",
     "text": [
      "WARNING: Ignoring invalid distribution -illow (c:\\users\\jarvis\\anaconda3\\lib\\site-packages)\n",
      "WARNING: Ignoring invalid distribution -illow (c:\\users\\jarvis\\anaconda3\\lib\\site-packages)\n",
      "WARNING: Ignoring invalid distribution -illow (c:\\users\\jarvis\\anaconda3\\lib\\site-packages)\n",
      "WARNING: Ignoring invalid distribution -illow (c:\\users\\jarvis\\anaconda3\\lib\\site-packages)\n",
      "WARNING: Ignoring invalid distribution -illow (c:\\users\\jarvis\\anaconda3\\lib\\site-packages)\n",
      "WARNING: Ignoring invalid distribution -illow (c:\\users\\jarvis\\anaconda3\\lib\\site-packages)\n"
     ]
    },
    {
     "name": "stdout",
     "output_type": "stream",
     "text": [
      "\n",
      "Requirement already satisfied: urllib3 in c:\\users\\jarvis\\anaconda3\\lib\\site-packages (from chembl_webresource_client) (1.26.9)\n",
      "Requirement already satisfied: idna<4,>=2.5 in c:\\users\\jarvis\\anaconda3\\lib\\site-packages (from requests>=2.18.4->chembl_webresource_client) (3.3)\n",
      "Requirement already satisfied: certifi>=2017.4.17 in c:\\users\\jarvis\\anaconda3\\lib\\site-packages (from requests>=2.18.4->chembl_webresource_client) (2021.10.8)\n",
      "Requirement already satisfied: charset-normalizer~=2.0.0 in c:\\users\\jarvis\\anaconda3\\lib\\site-packages (from requests>=2.18.4->chembl_webresource_client) (2.0.4)\n",
      "Requirement already satisfied: attrs<22.0,>=21.2 in c:\\users\\jarvis\\anaconda3\\lib\\site-packages (from requests-cache~=0.7.0->chembl_webresource_client) (21.4.0)\n",
      "Requirement already satisfied: url-normalize<2.0,>=1.4 in c:\\users\\jarvis\\anaconda3\\lib\\site-packages (from requests-cache~=0.7.0->chembl_webresource_client) (1.4.3)\n",
      "Requirement already satisfied: itsdangerous>=2.0.1 in c:\\users\\jarvis\\anaconda3\\lib\\site-packages (from requests-cache~=0.7.0->chembl_webresource_client) (2.0.1)\n",
      "Requirement already satisfied: pyyaml>=5.4 in c:\\users\\jarvis\\anaconda3\\lib\\site-packages (from requests-cache~=0.7.0->chembl_webresource_client) (6.0)\n",
      "Requirement already satisfied: six in c:\\users\\jarvis\\anaconda3\\lib\\site-packages (from url-normalize<2.0,>=1.4->requests-cache~=0.7.0->chembl_webresource_client) (1.16.0)\n"
     ]
    }
   ],
   "source": [
    "# Install ChEMBL Package \n",
    "! pip install chembl_webresource_client"
   ]
  },
  {
   "cell_type": "code",
   "execution_count": null,
   "metadata": {},
   "outputs": [],
   "source": []
  }
 ],
 "metadata": {
  "kernelspec": {
   "display_name": "Python 3.9.12 ('base')",
   "language": "python",
   "name": "python3"
  },
  "language_info": {
   "codemirror_mode": {
    "name": "ipython",
    "version": 3
   },
   "file_extension": ".py",
   "mimetype": "text/x-python",
   "name": "python",
   "nbconvert_exporter": "python",
   "pygments_lexer": "ipython3",
   "version": "3.9.12"
  },
  "orig_nbformat": 4,
  "vscode": {
   "interpreter": {
    "hash": "304c1b5cf9b70b5b9b247167c8143b007483028106fef11636f0a0eb99b6e7ee"
   }
  }
 },
 "nbformat": 4,
 "nbformat_minor": 2
}
